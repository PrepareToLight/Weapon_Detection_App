{
 "cells": [
  {
   "cell_type": "markdown",
   "id": "6570d9f9-f7a0-4a59-aff5-fa3dcec648e6",
   "metadata": {},
   "source": [
    "# Explaratory Data Analysis"
   ]
  },
  {
   "cell_type": "markdown",
   "id": "c3d0fbef-b78e-4ea4-b869-c609cefccb74",
   "metadata": {},
   "source": [
    "## 1. Data origin"
   ]
  },
  {
   "cell_type": "markdown",
   "id": "2457f2e1-6d66-4f3e-8689-4bcd9bc6f076",
   "metadata": {},
   "source": [
    "<p>For our defined problem I have found very complementary dataset from <a href=\"https://storage.googleapis.com/openimages/web/index.html\">Open Images V7</a>.</p>\n",
    "<p> Open Images contains 600 classes of labaled objects contained in images for a machine learning purposes. From this huge data set I have extracted classes of weapon objects. Which will be used for our model as the training/validation/test dataset.  </p>\n",
    "<p>To extract such subset of data from above dataset I have used opensource <a href=\"https://github.com/EscVM/OIDv4_ToolKit/tree/master\">OIDv4 ToolKit</a> repository</p>"
   ]
  },
  {
   "cell_type": "code",
   "execution_count": null,
   "id": "10000500-2aef-4691-acca-d87e9a90921c",
   "metadata": {},
   "outputs": [],
   "source": []
  }
 ],
 "metadata": {
  "kernelspec": {
   "display_name": "Python 3 (ipykernel)",
   "language": "python",
   "name": "python3"
  },
  "language_info": {
   "codemirror_mode": {
    "name": "ipython",
    "version": 3
   },
   "file_extension": ".py",
   "mimetype": "text/x-python",
   "name": "python",
   "nbconvert_exporter": "python",
   "pygments_lexer": "ipython3",
   "version": "3.10.4"
  }
 },
 "nbformat": 4,
 "nbformat_minor": 5
}
